{
 "cells": [
  {
   "cell_type": "code",
   "execution_count": 1,
   "id": "99b5f3ba",
   "metadata": {},
   "outputs": [],
   "source": [
    "import win32com.client as win32\n",
    "import pandas as pd\n",
    "hwp = win32.gencache.EnsureDispatch(\"hwpframe.hwpobject\")\n",
    "hwp.XHwpWindows.Item(0).Visible = True\n",
    "hwp.Open(r\"C:\\Users\\leedonwoo\\Desktop\\문항배치.hwp\")\n",
    "df = pd.read_excel(r\"C:\\Users\\leedonwoo\\Desktop\\TESAT문항_한글.xlsx\")\n",
    "hwp.HAction.Run(\"CopyPage\")\n",
    "for _ in range(len(df)-1):\n",
    "    hwp.HAction.Run(\"PastePage\")\n",
    "for i in range(0, len(df)):\n",
    "    hwp.PutFieldText(f\"문번{{{{{i}}}}}\", df[\"문번\"].iloc[i])\n",
    "    hwp.PutFieldText(f\"문제{{{{{i}}}}}\", df[\"문제\"].iloc[i])\n",
    "    hwp.PutFieldText(f\"박스{{{{{i}}}}}\", df[\"박스\"].iloc[i])\n",
    "    hwp.PutFieldText(f\"문항{{{{{i}}}}}\", df[\"문항\"].iloc[i])\n",
    "    hwp.PutFieldText(f\"정답{{{{{i}}}}}\", df[\"정답\"].iloc[i])\n",
    "    hwp.PutFieldText(f\"해설{{{{{i}}}}}\", df[\"해설\"].iloc[i])"
   ]
  },
  {
   "cell_type": "code",
   "execution_count": 2,
   "id": "0bf1327d",
   "metadata": {},
   "outputs": [],
   "source": [
    "#df"
   ]
  },
  {
   "cell_type": "code",
   "execution_count": 3,
   "id": "98a7ee32",
   "metadata": {},
   "outputs": [],
   "source": [
    "hwp.HAction.Run(\"CopyPage\")\n",
    "for _ in range(len(df)-1):\n",
    "    hwp.HAction.Run(\"PastePage\")"
   ]
  },
  {
   "cell_type": "code",
   "execution_count": 4,
   "id": "9b2fa393",
   "metadata": {},
   "outputs": [],
   "source": [
    "for i in range(0, len(df)):\n",
    "    hwp.PutFieldText(f\"문번{{{{{i}}}}}\", df[\"문번\"].iloc[i])\n",
    "    hwp.PutFieldText(f\"문제{{{{{i}}}}}\", df[\"문제\"].iloc[i])\n",
    "    hwp.PutFieldText(f\"박스{{{{{i}}}}}\", df[\"박스\"].iloc[i])\n",
    "    hwp.PutFieldText(f\"문항{{{{{i}}}}}\", df[\"문항\"].iloc[i])\n",
    "    hwp.PutFieldText(f\"정답{{{{{i}}}}}\", df[\"정답\"].iloc[i])\n",
    "    hwp.PutFieldText(f\"해설{{{{{i}}}}}\", df[\"해설\"].iloc[i])"
   ]
  }
 ],
 "metadata": {
  "kernelspec": {
   "display_name": "Python 3 (ipykernel)",
   "language": "python",
   "name": "python3"
  },
  "language_info": {
   "codemirror_mode": {
    "name": "ipython",
    "version": 3
   },
   "file_extension": ".py",
   "mimetype": "text/x-python",
   "name": "python",
   "nbconvert_exporter": "python",
   "pygments_lexer": "ipython3",
   "version": "3.10.9"
  }
 },
 "nbformat": 4,
 "nbformat_minor": 5
}
