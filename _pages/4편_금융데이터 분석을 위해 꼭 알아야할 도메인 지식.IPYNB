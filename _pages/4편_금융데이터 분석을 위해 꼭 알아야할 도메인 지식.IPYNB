---
title: 4편_금융데이터 분석을 위해 꼭 알아야할 도메인 지식
author: Tao He
date: 2022-02-07
category: Jekyll
layout: post
---

This is an draft page.
